{
 "cells": [
  {
   "cell_type": "markdown",
   "metadata": {},
   "source": [
    "# Numerical Correctness\n",
    "\n",
    "This notebook shows how numpy methods for mathematics can often lead to misleading or incorrect results. It also explains how these functions can be changed such that they can become numerically correct functions.\n",
    "\n",
    "The three functions are:\n",
    "* log(1 + exp(-x))\n",
    "* log(exp(x1) + exp(x2))\n",
    "* exp(x1) / (exp(x1) + exp(x2))"
   ]
  },
  {
   "cell_type": "code",
   "execution_count": 1,
   "metadata": {
    "scrolled": true
   },
   "outputs": [
    {
     "name": "stdout",
     "output_type": "stream",
     "text": [
      "x = -1\n",
      "Original function = 1.3132616875182228\n",
      "Numerically correct function = 1.3132616875182228 \n",
      "\n",
      "x = -1000\n",
      "Original function = inf\n",
      "Numerically correct function = 1000.0 \n",
      "\n",
      "x = 1000\n",
      "Original function = 0.0\n",
      "Numerically correct function = 0.0 \n",
      "\n"
     ]
    }
   ],
   "source": [
    "# First function: log(1 + exp(-x))\n",
    "\n",
    "import numpy as np\n",
    "\n",
    "for x in [-1, -1000, 1000]:\n",
    "    L_orig = np.log1p(np.exp(-x))\n",
    "    if (x < 0):\n",
    "        L_corr = np.log1p(np.exp(x)) - x\n",
    "    else:\n",
    "        L_corr = L_orig\n",
    "    \n",
    "    print(\"x =\", x)\n",
    "    print(\"Original function =\", L_orig)\n",
    "    print(\"Numerically correct function =\", L_corr, \"\\n\")\n",
    "    "
   ]
  },
  {
   "cell_type": "code",
   "execution_count": 2,
   "metadata": {
    "scrolled": false
   },
   "outputs": [
    {
     "name": "stdout",
     "output_type": "stream",
     "text": [
      "x1 = -1000 ; x2 = -1000\n",
      "Original function = -inf\n",
      "Numerically correct function = -999.3068528194401 \n",
      "\n",
      "x1 = -1000 ; x2 = 1000\n",
      "Original function = inf\n",
      "Numerically correct function = 1000.0 \n",
      "\n",
      "x1 = 1000 ; x2 = -1000\n",
      "Original function = inf\n",
      "Numerically correct function = 1000.0 \n",
      "\n",
      "x1 = 1000 ; x2 = 1000\n",
      "Original function = inf\n",
      "Numerically correct function = 1000.6931471805599 \n",
      "\n"
     ]
    },
    {
     "name": "stderr",
     "output_type": "stream",
     "text": [
      "C:\\Users\\ashin\\Anaconda3\\lib\\site-packages\\ipykernel_launcher.py:7: RuntimeWarning: divide by zero encountered in log\n",
      "  import sys\n"
     ]
    }
   ],
   "source": [
    "# Second function: log(exp(x1) + exp(x2))\n",
    "\n",
    "import numpy as np\n",
    "\n",
    "for x1 in [-1000, 1000]:\n",
    "    for x2 in [-1000, 1000]:\n",
    "        L_orig = np.log(np.exp(x1) + np.exp(x2))\n",
    "        L_corr = np.logaddexp(x1, x2)\n",
    "        print(\"x1 =\", x1, \"; x2 =\", x2)\n",
    "        print(\"Original function =\", L_orig)\n",
    "        print(\"Numerically correct function =\", L_corr, \"\\n\")"
   ]
  },
  {
   "cell_type": "code",
   "execution_count": 3,
   "metadata": {},
   "outputs": [
    {
     "name": "stdout",
     "output_type": "stream",
     "text": [
      "x1 = 1000 ; x2 = 1000\n",
      "Original function = nan\n",
      "Numerically correct function = 0.5 \n",
      "\n",
      "x1 = 1000 ; x2 = -1000\n",
      "Original function = nan\n",
      "Numerically correct function = 1.0 \n",
      "\n",
      "x1 = -1000 ; x2 = 1000\n",
      "Original function = 0.0\n",
      "Numerically correct function = 0.0 \n",
      "\n",
      "x1 = -1000 ; x2 = -1000\n",
      "Original function = nan\n",
      "Numerically correct function = 0.5 \n",
      "\n"
     ]
    },
    {
     "name": "stderr",
     "output_type": "stream",
     "text": [
      "C:\\Users\\ashin\\Anaconda3\\lib\\site-packages\\ipykernel_launcher.py:7: RuntimeWarning: invalid value encountered in double_scalars\n",
      "  import sys\n"
     ]
    }
   ],
   "source": [
    "# Third function: exp(x1) / (exp(x1) + exp(x2))\n",
    "\n",
    "import numpy as np\n",
    "\n",
    "for x1 in [1000, -1000]:\n",
    "    for x2 in [1000, -1000]:\n",
    "        L_orig = np.exp(x1) / (np.exp(x1) + np.exp(x2))\n",
    "        m = max(x1, x2)\n",
    "        L_corr = np.exp(x1-m) / (np.exp(x1-m) + np.exp(x2-m))\n",
    "        print(\"x1 =\", x1, \"; x2 =\", x2)\n",
    "        print(\"Original function =\", L_orig)\n",
    "        print(\"Numerically correct function =\", L_corr, \"\\n\")"
   ]
  }
 ],
 "metadata": {
  "kernelspec": {
   "display_name": "Python 3",
   "language": "python",
   "name": "python3"
  },
  "language_info": {
   "codemirror_mode": {
    "name": "ipython",
    "version": 3
   },
   "file_extension": ".py",
   "mimetype": "text/x-python",
   "name": "python",
   "nbconvert_exporter": "python",
   "pygments_lexer": "ipython3",
   "version": "3.7.4"
  }
 },
 "nbformat": 4,
 "nbformat_minor": 2
}
